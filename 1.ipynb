{
 "cells": [
  {
   "cell_type": "code",
   "execution_count": 1,
   "metadata": {},
   "outputs": [
    {
     "name": "stderr",
     "output_type": "stream",
     "text": [
      "Using TensorFlow backend.\n"
     ]
    }
   ],
   "source": [
    "\n",
    "from numpy import mean\n",
    "from numpy import std\n",
    "from matplotlib import pyplot\n",
    "from sklearn.model_selection import KFold\n",
    "from keras.datasets import mnist\n",
    "from keras.utils import to_categorical\n",
    "from keras.models import Sequential\n",
    "from keras.layers import Conv2D\n",
    "from keras.layers import MaxPooling2D\n",
    "from keras.layers import Dense\n",
    "from keras.layers import Flatten\n",
    "from keras.optimizers import SGD\n"
   ]
  },
  {
   "cell_type": "code",
   "execution_count": 2,
   "metadata": {},
   "outputs": [
    {
     "name": "stdout",
     "output_type": "stream",
     "text": [
      "Train: X=(60000, 28, 28), y=(60000,)\n",
      "Test: X=(10000, 28, 28), y=(10000,)\n"
     ]
    },
    {
     "data": {
      "image/png": "[encoded data removed]",
      "text/plain": [
       "<Figure size 432x288 with 9 Axes>"
      ]
     },
     "metadata": {
      "needs_background": "light"
     },
     "output_type": "display_data"
    }
   ],
   "source": [
    "# load dataset\n",
    "(trainX, trainy), (testX, testy) = mnist.load_data()\n",
    "\n",
    "print('Train: X=%s, y=%s' % (trainX.shape, trainy.shape))\n",
    "print('Test: X=%s, y=%s' % (testX.shape, testy.shape))\n",
    "\n",
    "for i in range(9):\n",
    "\tpyplot.subplot(330 + 1 + i)\n",
    "\tpyplot.imshow(trainX[i], cmap=pyplot.get_cmap('gray'))\n",
    "\n",
    "pyplot.show()"
   ]
  },
  {
   "cell_type": "code",
   "execution_count": 3,
   "metadata": {},
   "outputs": [],
   "source": [
    "\n",
    "# load dataset\n",
    "def load_dataset():\n",
    "\t(trainX, trainY), (testX, testY) = mnist.load_data()\n",
    "\ttrainX = trainX.reshape((trainX.shape[0], 28, 28, 1))\n",
    "\ttestX = testX.reshape((testX.shape[0], 28, 28, 1))\n",
    "\t# one hot encode target values\n",
    "\ttrainY = to_categorical(trainY)\n",
    "\ttestY = to_categorical(testY)\n",
    "\treturn trainX, trainY, testX, testY"
   ]
  },
  {
   "cell_type": "code",
   "execution_count": 4,
   "metadata": {},
   "outputs": [],
   "source": [
    "\n",
    "# scale pixels\n",
    "def prep_pixels(train, test):\n",
    "\ttrain_norm = train.astype('float32')\n",
    "\ttest_norm = test.astype('float32')\n",
    "\ttrain_norm = train_norm / 255.0\n",
    "\ttest_norm = test_norm / 255.0\n",
    "\treturn train_norm, test_norm\n"
   ]
  },
  {
   "cell_type": "code",
   "execution_count": 5,
   "metadata": {},
   "outputs": [],
   "source": [
    "# define cnn model\n",
    "def define_model():\n",
    "\tmodel = Sequential()\n",
    "\tmodel.add(Conv2D(32, (3, 3), activation='relu', kernel_initializer='he_uniform', input_shape=(28, 28, 1)))\n",
    "\tmodel.add(MaxPooling2D((2, 2)))\n",
    "\tmodel.add(Conv2D(64, (3, 3), activation='relu', kernel_initializer='he_uniform'))\n",
    "\tmodel.add(Conv2D(64, (3, 3), activation='relu', kernel_initializer='he_uniform'))\n",
    "\tmodel.add(MaxPooling2D((2, 2)))\n",
    "\tmodel.add(Flatten())\n",
    "\tmodel.add(Dense(100, activation='relu', kernel_initializer='he_uniform'))\n",
    "\tmodel.add(Dense(10, activation='softmax'))\n",
    "\t# compile model\n",
    "\topt = SGD(lr=0.01, momentum=0.9)\n",
    "\tmodel.compile(optimizer=opt, loss='categorical_crossentropy', metrics=['accuracy'])\n",
    "\treturn model"
   ]
  },
  {
   "cell_type": "code",
   "execution_count": 6,
   "metadata": {},
   "outputs": [],
   "source": [
    "# evaluate a model using k-fold cross-validation\n",
    "def evaluate_model(dataX, dataY, n_folds=5):\n",
    "\tscores, histories = list(), list()\n",
    "\tkfold = KFold(n_folds, shuffle=True, random_state=1)\n",
    "\tfor train_ix, test_ix in kfold.split(dataX):\n",
    "\t\tmodel = define_model()\n",
    "\t\ttrainX, trainY, testX, testY = dataX[train_ix], dataY[train_ix], dataX[test_ix], dataY[test_ix]\n",
    "\t\tmodel.fit(trainX, trainY, epochs=10, batch_size=32, validation_data=(testX, testY), verbose=0)\n",
    "\t\t_, trainacc = model.evaluate(trainX, trainY, verbose=0)\n",
    "\t\t_, testacc = model.evaluate(testX, testY, verbose=0)\n",
    "\t\tprint('>Train Accuracy %.3f' % (trainacc * 100.0))\n",
    "\t\tprint('>Test Accuracy %.3f' % (testacc * 100.0)) \n",
    "\t\tscores.append(acc)\n",
    "\treturn scores\n",
    " "
   ]
  },
  {
   "cell_type": "code",
   "execution_count": 7,
   "metadata": {},
   "outputs": [],
   "source": [
    "# plot diagnostic learning curves\n",
    "def summarize_diagnostics(histories):\n",
    "\tfor i in range(len(histories)):\n",
    "\t\t# plot loss\n",
    "\t\tpyplot.subplot(2, 1, 1)\n",
    "\t\tpyplot.title('Cross Entropy Loss')\n",
    "\t\tpyplot.plot(histories[i].history['loss'], color='blue', label='train')\n",
    "\t\tpyplot.plot(histories[i].history['val_loss'], color='orange', label='test')\n",
    "\t\t# plot accuracy\n",
    "\t\tpyplot.subplot(2, 1, 2)\n",
    "\t\tpyplot.title('Classification Accuracy')\n",
    "\t\tpyplot.plot(histories[i].history['acc'], color='blue', label='train')\n",
    "\t\tpyplot.plot(histories[i].history['val_acc'], color='orange', label='test')\n",
    "\tpyplot.show()"
   ]
  },
  {
   "cell_type": "code",
   "execution_count": 8,
   "metadata": {},
   "outputs": [],
   "source": [
    "# summarize model performance\n",
    "def summarize_performance(scores):\n",
    "\tprint('Accuracy: mean=%.3f std=%.3f, n=%d' % (mean(scores)*100, std(scores)*100, len(scores)))\n",
    "\tpyplot.boxplot(scores)\n",
    "\tpyplot.show()"
   ]
  },
  {
   "cell_type": "code",
   "execution_count": 9,
   "metadata": {},
   "outputs": [
    {
     "name": "stdout",
     "output_type": "stream",
     "text": [
      "WARNING:tensorflow:From C:\\Users\\Rasika_105127\\AppData\\Local\\Continuum\\anaconda3\\lib\\site-packages\\tensorflow\\python\\framework\\op_def_library.py:263: colocate_with (from tensorflow.python.framework.ops) is deprecated and will be removed in a future version.\n",
      "Instructions for updating:\n",
      "Colocations handled automatically by placer.\n",
      "WARNING:tensorflow:From C:\\Users\\Rasika_105127\\AppData\\Local\\Continuum\\anaconda3\\lib\\site-packages\\tensorflow\\python\\ops\\math_ops.py:3066: to_int32 (from tensorflow.python.ops.math_ops) is deprecated and will be removed in a future version.\n",
      "Instructions for updating:\n",
      "Use tf.cast instead.\n",
      "Train on 48000 samples, validate on 12000 samples\n",
      "Epoch 1/10\n",
      " - 53s - loss: 0.1321 - acc: 0.9577 - val_loss: 0.0721 - val_acc: 0.9780\n",
      "Epoch 2/10\n",
      " - 52s - loss: 0.0469 - acc: 0.9855 - val_loss: 0.0505 - val_acc: 0.9854\n",
      "Epoch 3/10\n",
      " - 52s - loss: 0.0316 - acc: 0.9903 - val_loss: 0.0467 - val_acc: 0.9859\n",
      "Epoch 4/10\n",
      " - 53s - loss: 0.0231 - acc: 0.9925 - val_loss: 0.0419 - val_acc: 0.9882\n",
      "Epoch 5/10\n",
      " - 52s - loss: 0.0177 - acc: 0.9940 - val_loss: 0.0442 - val_acc: 0.9875\n",
      "Epoch 6/10\n",
      " - 52s - loss: 0.0111 - acc: 0.9965 - val_loss: 0.0431 - val_acc: 0.9888\n",
      "Epoch 7/10\n",
      " - 52s - loss: 0.0081 - acc: 0.9974 - val_loss: 0.0500 - val_acc: 0.9889\n",
      "Epoch 8/10\n",
      " - 52s - loss: 0.0063 - acc: 0.9981 - val_loss: 0.0474 - val_acc: 0.9892\n",
      "Epoch 9/10\n",
      " - 53s - loss: 0.0048 - acc: 0.9986 - val_loss: 0.0501 - val_acc: 0.9878\n",
      "Epoch 10/10\n",
      " - 53s - loss: 0.0054 - acc: 0.9984 - val_loss: 0.0520 - val_acc: 0.9885\n",
      "> 98.850\n",
      "Train on 48000 samples, validate on 12000 samples\n",
      "Epoch 1/10\n",
      " - 56s - loss: 0.1398 - acc: 0.9570 - val_loss: 0.0589 - val_acc: 0.9812\n",
      "Epoch 2/10\n",
      " - 54s - loss: 0.0459 - acc: 0.9862 - val_loss: 0.0446 - val_acc: 0.9867\n",
      "Epoch 3/10\n",
      " - 53s - loss: 0.0312 - acc: 0.9900 - val_loss: 0.0411 - val_acc: 0.9881\n",
      "Epoch 4/10\n",
      " - 54s - loss: 0.0233 - acc: 0.9925 - val_loss: 0.0386 - val_acc: 0.9892\n",
      "Epoch 5/10\n",
      " - 54s - loss: 0.0176 - acc: 0.9941 - val_loss: 0.0537 - val_acc: 0.9824\n",
      "Epoch 6/10\n",
      " - 54s - loss: 0.0128 - acc: 0.9958 - val_loss: 0.0375 - val_acc: 0.9898\n",
      "Epoch 7/10\n",
      " - 56s - loss: 0.0103 - acc: 0.9968 - val_loss: 0.0381 - val_acc: 0.9900\n",
      "Epoch 8/10\n",
      " - 57s - loss: 0.0073 - acc: 0.9977 - val_loss: 0.0365 - val_acc: 0.9906\n",
      "Epoch 9/10\n",
      " - 54s - loss: 0.0057 - acc: 0.9983 - val_loss: 0.0404 - val_acc: 0.9890\n",
      "Epoch 10/10\n",
      " - 56s - loss: 0.0045 - acc: 0.9987 - val_loss: 0.0370 - val_acc: 0.9912\n",
      "> 99.125\n",
      "Train on 48000 samples, validate on 12000 samples\n",
      "Epoch 1/10\n",
      " - 55s - loss: 0.1428 - acc: 0.9554 - val_loss: 0.0664 - val_acc: 0.9798\n",
      "Epoch 2/10\n",
      " - 55s - loss: 0.0495 - acc: 0.9845 - val_loss: 0.0517 - val_acc: 0.9846\n",
      "Epoch 3/10\n",
      " - 56s - loss: 0.0310 - acc: 0.9899 - val_loss: 0.0563 - val_acc: 0.9838\n",
      "Epoch 4/10\n",
      " - 53s - loss: 0.0221 - acc: 0.9929 - val_loss: 0.0426 - val_acc: 0.9888\n",
      "Epoch 5/10\n",
      " - 53s - loss: 0.0162 - acc: 0.9948 - val_loss: 0.0507 - val_acc: 0.9866\n",
      "Epoch 6/10\n",
      " - 56s - loss: 0.0121 - acc: 0.9963 - val_loss: 0.0455 - val_acc: 0.9886\n",
      "Epoch 7/10\n",
      " - 57s - loss: 0.0095 - acc: 0.9969 - val_loss: 0.0544 - val_acc: 0.9857\n",
      "Epoch 8/10\n",
      " - 54s - loss: 0.0060 - acc: 0.9982 - val_loss: 0.0518 - val_acc: 0.9878\n",
      "Epoch 9/10\n",
      " - 55s - loss: 0.0048 - acc: 0.9986 - val_loss: 0.0477 - val_acc: 0.9908\n",
      "Epoch 10/10\n",
      " - 56s - loss: 0.0046 - acc: 0.9986 - val_loss: 0.0470 - val_acc: 0.9896\n",
      "> 98.958\n",
      "Train on 48000 samples, validate on 12000 samples\n",
      "Epoch 1/10\n",
      " - 57s - loss: 0.1452 - acc: 0.9558 - val_loss: 0.0603 - val_acc: 0.9795\n",
      "Epoch 2/10\n",
      " - 56s - loss: 0.0492 - acc: 0.9848 - val_loss: 0.0529 - val_acc: 0.9838\n",
      "Epoch 3/10\n",
      " - 56s - loss: 0.0327 - acc: 0.9893 - val_loss: 0.0346 - val_acc: 0.9891\n",
      "Epoch 4/10\n",
      " - 58s - loss: 0.0247 - acc: 0.9924 - val_loss: 0.0353 - val_acc: 0.9894\n",
      "Epoch 5/10\n",
      " - 57s - loss: 0.0177 - acc: 0.9942 - val_loss: 0.0330 - val_acc: 0.9906\n",
      "Epoch 6/10\n",
      " - 57s - loss: 0.0137 - acc: 0.9957 - val_loss: 0.0373 - val_acc: 0.9898\n",
      "Epoch 7/10\n",
      " - 57s - loss: 0.0095 - acc: 0.9972 - val_loss: 0.0340 - val_acc: 0.9913\n",
      "Epoch 8/10\n",
      " - 54s - loss: 0.0066 - acc: 0.9979 - val_loss: 0.0338 - val_acc: 0.9918\n",
      "Epoch 9/10\n",
      " - 59s - loss: 0.0072 - acc: 0.9975 - val_loss: 0.0424 - val_acc: 0.9898\n",
      "Epoch 10/10\n",
      " - 59s - loss: 0.0037 - acc: 0.9989 - val_loss: 0.0384 - val_acc: 0.9918\n",
      "> 99.175\n",
      "Train on 48000 samples, validate on 12000 samples\n",
      "Epoch 1/10\n",
      " - 56s - loss: 0.1409 - acc: 0.9556 - val_loss: 0.0702 - val_acc: 0.9789\n",
      "Epoch 2/10\n",
      " - 57s - loss: 0.0474 - acc: 0.9853 - val_loss: 0.0477 - val_acc: 0.9854\n",
      "Epoch 3/10\n",
      " - 58s - loss: 0.0337 - acc: 0.9892 - val_loss: 0.0457 - val_acc: 0.9850\n",
      "Epoch 4/10\n",
      " - 57s - loss: 0.0229 - acc: 0.9928 - val_loss: 0.0377 - val_acc: 0.9902\n",
      "Epoch 5/10\n",
      " - 59s - loss: 0.0162 - acc: 0.9944 - val_loss: 0.0386 - val_acc: 0.9888\n",
      "Epoch 6/10\n",
      " - 58s - loss: 0.0117 - acc: 0.9965 - val_loss: 0.0461 - val_acc: 0.9874\n",
      "Epoch 7/10\n",
      " - 58s - loss: 0.0103 - acc: 0.9968 - val_loss: 0.0401 - val_acc: 0.9889\n",
      "Epoch 8/10\n",
      " - 58s - loss: 0.0077 - acc: 0.9975 - val_loss: 0.0421 - val_acc: 0.9896\n",
      "Epoch 9/10\n",
      " - 57s - loss: 0.0062 - acc: 0.9982 - val_loss: 0.0406 - val_acc: 0.9903\n",
      "Epoch 10/10\n",
      " - 57s - loss: 0.0034 - acc: 0.9990 - val_loss: 0.0411 - val_acc: 0.9912\n",
      "> 99.117\n",
      "Accuracy: mean=99.045 std=0.122, n=5\n"
     ]
    },
    {
     "data": {
      "image/png": "[encoded data removed]",
      "text/plain": [
       "<Figure size 432x288 with 1 Axes>"
      ]
     },
     "metadata": {
      "needs_background": "light"
     },
     "output_type": "display_data"
    }
   ],
   "source": [
    "# run the model\n",
    "def run_model():\n",
    "\t# load dataset\n",
    "\ttrainX, trainY, testX, testY = load_dataset()\n",
    "\t# prepare pixel data\n",
    "\ttrainX, testX = prep_pixels(trainX, testX)\n",
    "\t# evaluate model\n",
    "\tscores = evaluate_model(trainX, trainY)\n",
    "\n",
    "\tsummarize_performance(scores)\n",
    " \n",
    "#entry point\n",
    "run_model()"
   ]
  },
  {
   "cell_type": "code",
   "execution_count": null,
   "metadata": {},
   "outputs": [],
   "source": []
  },
  {
   "cell_type": "code",
   "execution_count": null,
   "metadata": {},
   "outputs": [],
   "source": []
  }
 ],
 "metadata": {
  "kernelspec": {
   "display_name": "Python 3",
   "language": "python",
   "name": "python3"
  },
  "language_info": {
   "codemirror_mode": {
    "name": "ipython",
    "version": 3
   },
   "file_extension": ".py",
   "mimetype": "text/x-python",
   "name": "python",
   "nbconvert_exporter": "python",
   "pygments_lexer": "ipython3",
   "version": "3.7.1"
  }
 },
 "nbformat": 4,
 "nbformat_minor": 2
}
